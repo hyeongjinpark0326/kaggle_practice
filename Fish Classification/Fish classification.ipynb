{
 "cells": [
  {
   "cell_type": "markdown",
   "id": "723b4c31",
   "metadata": {},
   "source": [
    "# Fish 이미지 분류\n",
    "https://www.kaggle.com/crowww/a-large-scale-fish-dataset"
   ]
  },
  {
   "cell_type": "code",
   "execution_count": 127,
   "id": "194a450e",
   "metadata": {},
   "outputs": [],
   "source": [
    "import numpy as np \n",
    "import pandas as pd\n",
    "import os\n",
    "from pathlib import Path\n",
    "from sklearn.model_selection import train_test_split \n",
    "from keras.preprocessing.image import ImageDataGenerator\n",
    "from tensorflow import keras\n",
    "from tensorflow.keras.models import Sequential, Model\n",
    "from tensorflow.keras.layers import Dense, Dropout, Flatten, Conv2D, MaxPool2D, Input, GlobalMaxPool2D, GlobalAvgPool2D, BatchNormalization\n",
    "from tensorflow.keras.optimizers import Adam, SGD\n",
    "from tensorflow.keras.applications import EfficientNetB0, EfficientNetB1\n",
    "from tensorflow.keras.metrics import Accuracy, Precision, Recall, AUC\n",
    "from tensorflow.keras.callbacks import EarlyStopping, ModelCheckpoint, ReduceLROnPlateau\n",
    "import tensorflow as tf"
   ]
  },
  {
   "cell_type": "code",
   "execution_count": 117,
   "id": "d5d39e45",
   "metadata": {
    "scrolled": true
   },
   "outputs": [
    {
     "data": {
      "text/html": [
       "<div>\n",
       "<style scoped>\n",
       "    .dataframe tbody tr th:only-of-type {\n",
       "        vertical-align: middle;\n",
       "    }\n",
       "\n",
       "    .dataframe tbody tr th {\n",
       "        vertical-align: top;\n",
       "    }\n",
       "\n",
       "    .dataframe thead th {\n",
       "        text-align: right;\n",
       "    }\n",
       "</style>\n",
       "<table border=\"1\" class=\"dataframe\">\n",
       "  <thead>\n",
       "    <tr style=\"text-align: right;\">\n",
       "      <th></th>\n",
       "      <th>FilePaths</th>\n",
       "      <th>Labels</th>\n",
       "    </tr>\n",
       "  </thead>\n",
       "  <tbody>\n",
       "    <tr>\n",
       "      <th>0</th>\n",
       "      <td>D:\\prac\\fish_classification\\Fish_Dataset\\Fish_...</td>\n",
       "      <td>Trout</td>\n",
       "    </tr>\n",
       "    <tr>\n",
       "      <th>1</th>\n",
       "      <td>D:\\prac\\fish_classification\\Fish_Dataset\\Fish_...</td>\n",
       "      <td>Red Mullet</td>\n",
       "    </tr>\n",
       "    <tr>\n",
       "      <th>2</th>\n",
       "      <td>D:\\prac\\fish_classification\\Fish_Dataset\\Fish_...</td>\n",
       "      <td>Hourse Mackerel</td>\n",
       "    </tr>\n",
       "    <tr>\n",
       "      <th>3</th>\n",
       "      <td>D:\\prac\\fish_classification\\Fish_Dataset\\Fish_...</td>\n",
       "      <td>Red Sea Bream</td>\n",
       "    </tr>\n",
       "    <tr>\n",
       "      <th>4</th>\n",
       "      <td>D:\\prac\\fish_classification\\Fish_Dataset\\Fish_...</td>\n",
       "      <td>Red Sea Bream</td>\n",
       "    </tr>\n",
       "    <tr>\n",
       "      <th>...</th>\n",
       "      <td>...</td>\n",
       "      <td>...</td>\n",
       "    </tr>\n",
       "    <tr>\n",
       "      <th>8995</th>\n",
       "      <td>D:\\prac\\fish_classification\\Fish_Dataset\\Fish_...</td>\n",
       "      <td>Striped Red Mullet</td>\n",
       "    </tr>\n",
       "    <tr>\n",
       "      <th>8996</th>\n",
       "      <td>D:\\prac\\fish_classification\\Fish_Dataset\\Fish_...</td>\n",
       "      <td>Shrimp</td>\n",
       "    </tr>\n",
       "    <tr>\n",
       "      <th>8997</th>\n",
       "      <td>D:\\prac\\fish_classification\\Fish_Dataset\\Fish_...</td>\n",
       "      <td>Red Sea Bream</td>\n",
       "    </tr>\n",
       "    <tr>\n",
       "      <th>8998</th>\n",
       "      <td>D:\\prac\\fish_classification\\Fish_Dataset\\Fish_...</td>\n",
       "      <td>Red Sea Bream</td>\n",
       "    </tr>\n",
       "    <tr>\n",
       "      <th>8999</th>\n",
       "      <td>D:\\prac\\fish_classification\\Fish_Dataset\\Fish_...</td>\n",
       "      <td>Black Sea Sprat</td>\n",
       "    </tr>\n",
       "  </tbody>\n",
       "</table>\n",
       "<p>9000 rows × 2 columns</p>\n",
       "</div>"
      ],
      "text/plain": [
       "                                              FilePaths              Labels\n",
       "0     D:\\prac\\fish_classification\\Fish_Dataset\\Fish_...               Trout\n",
       "1     D:\\prac\\fish_classification\\Fish_Dataset\\Fish_...          Red Mullet\n",
       "2     D:\\prac\\fish_classification\\Fish_Dataset\\Fish_...     Hourse Mackerel\n",
       "3     D:\\prac\\fish_classification\\Fish_Dataset\\Fish_...       Red Sea Bream\n",
       "4     D:\\prac\\fish_classification\\Fish_Dataset\\Fish_...       Red Sea Bream\n",
       "...                                                 ...                 ...\n",
       "8995  D:\\prac\\fish_classification\\Fish_Dataset\\Fish_...  Striped Red Mullet\n",
       "8996  D:\\prac\\fish_classification\\Fish_Dataset\\Fish_...              Shrimp\n",
       "8997  D:\\prac\\fish_classification\\Fish_Dataset\\Fish_...       Red Sea Bream\n",
       "8998  D:\\prac\\fish_classification\\Fish_Dataset\\Fish_...       Red Sea Bream\n",
       "8999  D:\\prac\\fish_classification\\Fish_Dataset\\Fish_...     Black Sea Sprat\n",
       "\n",
       "[9000 rows x 2 columns]"
      ]
     },
     "execution_count": 117,
     "metadata": {},
     "output_type": "execute_result"
    }
   ],
   "source": [
    "addr = Path('D:/prac/fish_classification/Fish_Dataset')\n",
    "filepath = list(addr.glob(r'**/*.png'))\n",
    "labels = list(map(lambda x: os.path.split(os.path.split(x)[0])[1],filepath))\n",
    "\n",
    "filepath = pd.Series(filepath, name='FilePaths').astype(str)\n",
    "labels = pd.Series(labels, name='Labels').astype(str)\n",
    "\n",
    "df_imgs = pd.merge(filepath, labels, right_index = True, left_index = True)\n",
    "df_imgs = df_imgs[df_imgs['Labels'].apply(lambda x: x[-2:]!='GT') ]\n",
    "\n",
    "df_imgs=df_imgs.sample(frac = 1).reset_index(drop=True)\n",
    "df_imgs"
   ]
  },
  {
   "cell_type": "code",
   "execution_count": 118,
   "id": "567f1d63",
   "metadata": {},
   "outputs": [
    {
     "data": {
      "text/plain": [
       "Trout                 1000\n",
       "Red Mullet            1000\n",
       "Hourse Mackerel       1000\n",
       "Red Sea Bream         1000\n",
       "Sea Bass              1000\n",
       "Gilt-Head Bream       1000\n",
       "Shrimp                1000\n",
       "Striped Red Mullet    1000\n",
       "Black Sea Sprat       1000\n",
       "Name: Labels, dtype: int64"
      ]
     },
     "execution_count": 118,
     "metadata": {},
     "output_type": "execute_result"
    }
   ],
   "source": [
    "df_imgs['Labels'].value_counts(ascending=True)"
   ]
  },
  {
   "cell_type": "code",
   "execution_count": 119,
   "id": "2c4c2a08",
   "metadata": {},
   "outputs": [],
   "source": [
    "X_train, X_test = train_test_split(df_imgs, test_size=0.3)\n",
    "X_val, X_test = train_test_split(X_test, test_size=0.15/0.3) "
   ]
  },
  {
   "cell_type": "code",
   "execution_count": 120,
   "id": "6e0f3c2d",
   "metadata": {},
   "outputs": [
    {
     "name": "stdout",
     "output_type": "stream",
     "text": [
      "(6300, 2)\n",
      "(1350, 2)\n",
      "(1350, 2)\n"
     ]
    }
   ],
   "source": [
    "print(X_train.shape)\n",
    "print(X_test.shape)\n",
    "print(X_val.shape)"
   ]
  },
  {
   "cell_type": "code",
   "execution_count": 121,
   "id": "3074f86e",
   "metadata": {},
   "outputs": [],
   "source": [
    "img_generator = ImageDataGenerator(preprocessing_function=tf.keras.applications.efficientnet.preprocess_input)"
   ]
  },
  {
   "cell_type": "code",
   "execution_count": 132,
   "id": "8413ab3e",
   "metadata": {},
   "outputs": [
    {
     "name": "stdout",
     "output_type": "stream",
     "text": [
      "Found 6300 validated image filenames belonging to 9 classes.\n",
      "Found 1350 validated image filenames belonging to 9 classes.\n",
      "Found 1350 validated image filenames belonging to 9 classes.\n"
     ]
    }
   ],
   "source": [
    "X_train = img_generator.flow_from_dataframe(dataframe = X_train, \n",
    "                                          x_col='FilePaths', \n",
    "                                          y_col='Labels', \n",
    "                                          target_size=(224,224), \n",
    "                                          color_mode='rgb',\n",
    "                                          class_mode='categorical',\n",
    "                                          batch_size=48,\n",
    "                                          seed=33)\n",
    "\n",
    "X_test = img_generator.flow_from_dataframe(dataframe = X_test, \n",
    "                                         x_col='FilePaths', \n",
    "                                         y_col='Labels', \n",
    "                                         target_size=(224,224),\n",
    "                                         color_mode='rgb',\n",
    "                                         class_mode='categorical',\n",
    "                                         batch_size=48,\n",
    "                                         seed=33)\n",
    "\n",
    "X_val = img_generator.flow_from_dataframe(dataframe = X_val, \n",
    "                                        x_col='FilePaths', \n",
    "                                        y_col='Labels', \n",
    "                                        target_size=(224,224), \n",
    "                                        color_mode='rgb',\n",
    "                                        class_mode='categorical',\n",
    "                                        batch_size=48,\n",
    "                                        seed=33)"
   ]
  },
  {
   "cell_type": "code",
   "execution_count": 133,
   "id": "58b57c67",
   "metadata": {},
   "outputs": [],
   "source": [
    "base_model = EfficientNetB0(input_shape=(224,224,3), \n",
    "                         include_top=False,\n",
    "                         weights=\"imagenet\")\n",
    "base_model.trainable = False\n",
    "\n",
    "model = Sequential()\n",
    "model.add(base_model)\n",
    "model.add(Dropout(0.5))\n",
    "model.add(Flatten())\n",
    "model.add(BatchNormalization())\n",
    "model.add(Dense(512, activation='relu'))\n",
    "model.add(BatchNormalization())\n",
    "model.add(Dropout(0.2))\n",
    "model.add(Dense(9,activation='softmax'))"
   ]
  },
  {
   "cell_type": "code",
   "execution_count": 134,
   "id": "6dc36d33",
   "metadata": {
    "scrolled": true
   },
   "outputs": [
    {
     "name": "stdout",
     "output_type": "stream",
     "text": [
      "Model: \"sequential_7\"\n",
      "_________________________________________________________________\n",
      "Layer (type)                 Output Shape              Param #   \n",
      "=================================================================\n",
      "efficientnetb0 (Functional)  (None, 7, 7, 1280)        4049571   \n",
      "_________________________________________________________________\n",
      "dropout_12 (Dropout)         (None, 7, 7, 1280)        0         \n",
      "_________________________________________________________________\n",
      "flatten_3 (Flatten)          (None, 62720)             0         \n",
      "_________________________________________________________________\n",
      "batch_normalization_8 (Batch (None, 62720)             250880    \n",
      "_________________________________________________________________\n",
      "dense_10 (Dense)             (None, 512)               32113152  \n",
      "_________________________________________________________________\n",
      "batch_normalization_9 (Batch (None, 512)               2048      \n",
      "_________________________________________________________________\n",
      "dropout_13 (Dropout)         (None, 512)               0         \n",
      "_________________________________________________________________\n",
      "dense_11 (Dense)             (None, 9)                 4617      \n",
      "=================================================================\n",
      "Total params: 36,420,268\n",
      "Trainable params: 32,244,233\n",
      "Non-trainable params: 4,176,035\n",
      "_________________________________________________________________\n"
     ]
    }
   ],
   "source": [
    "model.summary()"
   ]
  },
  {
   "cell_type": "raw",
   "id": "b414aa60",
   "metadata": {},
   "source": [
    "from tensorflow.keras.utils import plot_model\n",
    "plot_model(model, show_shapes=True, show_layer_names=True)"
   ]
  },
  {
   "cell_type": "code",
   "execution_count": 137,
   "id": "370589e5",
   "metadata": {},
   "outputs": [],
   "source": [
    "model.compile(loss='categorical_crossentropy',\n",
    "              metrics=['accuracy',Precision(),Recall(),AUC()],\n",
    "              optimizer=tf.keras.optimizers.Adam(learning_rate=0.001))\n",
    "\n",
    "filepath = './best_weights.hdf5'\n",
    "es = EarlyStopping(monitor = 'val_accuracy', \n",
    "                              mode = 'max' , \n",
    "                              patience = 5,\n",
    "                              verbose = 1)\n",
    "\n",
    "mc = ModelCheckpoint(filepath, \n",
    "                                monitor = 'val_accuracy', \n",
    "                                mode='max', \n",
    "                                save_best_only=True, \n",
    "                                verbose = 1)\n",
    "\n",
    "#lr_schedule = ReduceLROnPlateau(monitor='val_loss', mode='min', patience='5', verbose=1)"
   ]
  },
  {
   "cell_type": "code",
   "execution_count": 140,
   "id": "d5c3ad6e",
   "metadata": {
    "scrolled": true
   },
   "outputs": [
    {
     "name": "stdout",
     "output_type": "stream",
     "text": [
      "Epoch 1/20\n",
      "5/5 [==============================] - 16s 4s/step - loss: 0.3375 - accuracy: 0.8833 - precision_4: 0.8932 - recall_4: 0.8708 - auc_4: 0.9902 - val_loss: 1.2995 - val_accuracy: 0.8593 - val_precision_4: 0.8603 - val_recall_4: 0.8578 - val_auc_4: 0.9511\n",
      "\n",
      "Epoch 00001: val_accuracy improved from -inf to 0.85926, saving model to .\\best_weights.hdf5\n",
      "Epoch 2/20\n",
      "5/5 [==============================] - 10s 2s/step - loss: 0.4138 - accuracy: 0.8750 - precision_4: 0.8787 - recall_4: 0.8750 - auc_4: 0.9861 - val_loss: 0.7248 - val_accuracy: 0.8970 - val_precision_4: 0.8983 - val_recall_4: 0.8963 - val_auc_4: 0.9698\n",
      "\n",
      "Epoch 00002: val_accuracy improved from 0.85926 to 0.89704, saving model to .\\best_weights.hdf5\n",
      "Epoch 3/20\n",
      "5/5 [==============================] - 10s 2s/step - loss: 0.2762 - accuracy: 0.8833 - precision_4: 0.8936 - recall_4: 0.8750 - auc_4: 0.9954 - val_loss: 0.3721 - val_accuracy: 0.9370 - val_precision_4: 0.9370 - val_recall_4: 0.9370 - val_auc_4: 0.9848\n",
      "\n",
      "Epoch 00003: val_accuracy improved from 0.89704 to 0.93704, saving model to .\\best_weights.hdf5\n",
      "Epoch 4/20\n",
      "5/5 [==============================] - 10s 2s/step - loss: 0.2003 - accuracy: 0.9250 - precision_4: 0.9325 - recall_4: 0.9208 - auc_4: 0.9974 - val_loss: 0.2309 - val_accuracy: 0.9533 - val_precision_4: 0.9533 - val_recall_4: 0.9533 - val_auc_4: 0.9901\n",
      "\n",
      "Epoch 00004: val_accuracy improved from 0.93704 to 0.95333, saving model to .\\best_weights.hdf5\n",
      "Epoch 5/20\n",
      "5/5 [==============================] - 10s 2s/step - loss: 0.2029 - accuracy: 0.9208 - precision_4: 0.9283 - recall_4: 0.9167 - auc_4: 0.9956 - val_loss: 0.1562 - val_accuracy: 0.9659 - val_precision_4: 0.9659 - val_recall_4: 0.9659 - val_auc_4: 0.9947\n",
      "\n",
      "Epoch 00005: val_accuracy improved from 0.95333 to 0.96593, saving model to .\\best_weights.hdf5\n",
      "Epoch 6/20\n",
      "5/5 [==============================] - 10s 2s/step - loss: 0.1259 - accuracy: 0.9583 - precision_4: 0.9623 - recall_4: 0.9583 - auc_4: 0.9988 - val_loss: 0.1080 - val_accuracy: 0.9696 - val_precision_4: 0.9696 - val_recall_4: 0.9689 - val_auc_4: 0.9976\n",
      "\n",
      "Epoch 00006: val_accuracy improved from 0.96593 to 0.96963, saving model to .\\best_weights.hdf5\n",
      "Epoch 7/20\n",
      "5/5 [==============================] - 10s 2s/step - loss: 0.1140 - accuracy: 0.9667 - precision_4: 0.9706 - recall_4: 0.9625 - auc_4: 0.9992 - val_loss: 0.0792 - val_accuracy: 0.9778 - val_precision_4: 0.9785 - val_recall_4: 0.9770 - val_auc_4: 0.9978\n",
      "\n",
      "Epoch 00007: val_accuracy improved from 0.96963 to 0.97778, saving model to .\\best_weights.hdf5\n",
      "Epoch 8/20\n",
      "5/5 [==============================] - 10s 2s/step - loss: 0.1023 - accuracy: 0.9667 - precision_4: 0.9747 - recall_4: 0.9625 - auc_4: 0.9994 - val_loss: 0.0632 - val_accuracy: 0.9822 - val_precision_4: 0.9837 - val_recall_4: 0.9822 - val_auc_4: 0.9986\n",
      "\n",
      "Epoch 00008: val_accuracy improved from 0.97778 to 0.98222, saving model to .\\best_weights.hdf5\n",
      "Epoch 9/20\n",
      "5/5 [==============================] - 10s 2s/step - loss: 0.0572 - accuracy: 0.9750 - precision_4: 0.9831 - recall_4: 0.9708 - auc_4: 0.9999 - val_loss: 0.0568 - val_accuracy: 0.9837 - val_precision_4: 0.9844 - val_recall_4: 0.9822 - val_auc_4: 0.9991\n",
      "\n",
      "Epoch 00009: val_accuracy improved from 0.98222 to 0.98370, saving model to .\\best_weights.hdf5\n",
      "Epoch 10/20\n",
      "5/5 [==============================] - 10s 2s/step - loss: 0.0471 - accuracy: 0.9833 - precision_4: 0.9916 - recall_4: 0.9792 - auc_4: 0.9999 - val_loss: 0.0483 - val_accuracy: 0.9852 - val_precision_4: 0.9852 - val_recall_4: 0.9852 - val_auc_4: 0.9995\n",
      "\n",
      "Epoch 00010: val_accuracy improved from 0.98370 to 0.98519, saving model to .\\best_weights.hdf5\n",
      "Epoch 11/20\n",
      "5/5 [==============================] - 10s 2s/step - loss: 0.0552 - accuracy: 0.9750 - precision_4: 0.9750 - recall_4: 0.9750 - auc_4: 0.9998 - val_loss: 0.0416 - val_accuracy: 0.9852 - val_precision_4: 0.9852 - val_recall_4: 0.9852 - val_auc_4: 0.9995\n",
      "\n",
      "Epoch 00011: val_accuracy did not improve from 0.98519\n",
      "Epoch 12/20\n",
      "5/5 [==============================] - 10s 2s/step - loss: 0.0742 - accuracy: 0.9833 - precision_4: 0.9833 - recall_4: 0.9833 - auc_4: 0.9994 - val_loss: 0.0315 - val_accuracy: 0.9889 - val_precision_4: 0.9889 - val_recall_4: 0.9889 - val_auc_4: 0.9995\n",
      "\n",
      "Epoch 00012: val_accuracy improved from 0.98519 to 0.98889, saving model to .\\best_weights.hdf5\n",
      "Epoch 13/20\n",
      "5/5 [==============================] - 10s 2s/step - loss: 0.0522 - accuracy: 0.9917 - precision_4: 0.9916 - recall_4: 0.9875 - auc_4: 0.9996 - val_loss: 0.0294 - val_accuracy: 0.9874 - val_precision_4: 0.9881 - val_recall_4: 0.9859 - val_auc_4: 0.9995\n",
      "\n",
      "Epoch 00013: val_accuracy did not improve from 0.98889\n",
      "Epoch 14/20\n",
      "5/5 [==============================] - 10s 2s/step - loss: 0.0522 - accuracy: 0.9875 - precision_4: 0.9875 - recall_4: 0.9875 - auc_4: 0.9999 - val_loss: 0.0277 - val_accuracy: 0.9896 - val_precision_4: 0.9896 - val_recall_4: 0.9889 - val_auc_4: 0.9995\n",
      "\n",
      "Epoch 00014: val_accuracy improved from 0.98889 to 0.98963, saving model to .\\best_weights.hdf5\n",
      "Epoch 15/20\n",
      "5/5 [==============================] - 10s 2s/step - loss: 0.0503 - accuracy: 0.9833 - precision_4: 0.9833 - recall_4: 0.9792 - auc_4: 0.9999 - val_loss: 0.0284 - val_accuracy: 0.9904 - val_precision_4: 0.9904 - val_recall_4: 0.9896 - val_auc_4: 0.9995\n",
      "\n",
      "Epoch 00015: val_accuracy improved from 0.98963 to 0.99037, saving model to .\\best_weights.hdf5\n",
      "Epoch 16/20\n",
      "5/5 [==============================] - 10s 2s/step - loss: 0.0590 - accuracy: 0.9804 - precision_4: 0.9852 - recall_4: 0.9804 - auc_4: 0.9999 - val_loss: 0.0287 - val_accuracy: 0.9889 - val_precision_4: 0.9889 - val_recall_4: 0.9889 - val_auc_4: 0.9999\n",
      "\n",
      "Epoch 00016: val_accuracy did not improve from 0.99037\n",
      "Epoch 17/20\n",
      "5/5 [==============================] - 10s 2s/step - loss: 0.0236 - accuracy: 0.9958 - precision_4: 0.9958 - recall_4: 0.9958 - auc_4: 1.0000 - val_loss: 0.0289 - val_accuracy: 0.9896 - val_precision_4: 0.9904 - val_recall_4: 0.9889 - val_auc_4: 0.9999\n",
      "\n",
      "Epoch 00017: val_accuracy did not improve from 0.99037\n",
      "Epoch 18/20\n",
      "5/5 [==============================] - 10s 2s/step - loss: 0.0352 - accuracy: 0.9917 - precision_4: 0.9917 - recall_4: 0.9917 - auc_4: 1.0000 - val_loss: 0.0291 - val_accuracy: 0.9874 - val_precision_4: 0.9881 - val_recall_4: 0.9874 - val_auc_4: 0.9999\n",
      "\n",
      "Epoch 00018: val_accuracy did not improve from 0.99037\n",
      "Epoch 19/20\n",
      "5/5 [==============================] - 10s 2s/step - loss: 0.0605 - accuracy: 0.9917 - precision_4: 0.9916 - recall_4: 0.9875 - auc_4: 0.9974 - val_loss: 0.0288 - val_accuracy: 0.9896 - val_precision_4: 0.9896 - val_recall_4: 0.9889 - val_auc_4: 0.9999\n",
      "\n",
      "Epoch 00019: val_accuracy did not improve from 0.99037\n",
      "Epoch 20/20\n",
      "5/5 [==============================] - 10s 2s/step - loss: 0.0685 - accuracy: 0.9750 - precision_4: 0.9750 - recall_4: 0.9750 - auc_4: 0.9997 - val_loss: 0.0231 - val_accuracy: 0.9933 - val_precision_4: 0.9948 - val_recall_4: 0.9933 - val_auc_4: 1.0000\n",
      "\n",
      "Epoch 00020: val_accuracy improved from 0.99037 to 0.99333, saving model to .\\best_weights.hdf5\n"
     ]
    }
   ],
   "source": [
    "with tf.device('/GPU:0'):\n",
    "    history = model.fit(X_train,            \n",
    "                        validation_data=X_val,\n",
    "                        steps_per_epoch=5,\n",
    "                        epochs = 20,\n",
    "                        callbacks = [es, mc],\n",
    "                        verbose = 1,\n",
    "                        )"
   ]
  },
  {
   "cell_type": "code",
   "execution_count": 141,
   "id": "183789b7",
   "metadata": {},
   "outputs": [
    {
     "name": "stdout",
     "output_type": "stream",
     "text": [
      "29/29 [==============================] - 12s 417ms/step - loss: 0.0208 - accuracy: 0.9919 - precision_4: 0.9926 - recall_4: 0.9919 - auc_4: 1.0000\n",
      "Test accuracy is :  99.18518662452698 %\n"
     ]
    }
   ],
   "source": [
    "test_accuracy = model.evaluate(x_test)[1] * 100\n",
    "print('Test accuracy is : ',test_accuracy, '%' )"
   ]
  },
  {
   "cell_type": "code",
   "execution_count": 145,
   "id": "3b0c1ee8",
   "metadata": {},
   "outputs": [
    {
     "data": {
      "image/png": "[encoded data removed]",
      "text/plain": [
       "<Figure size 432x288 with 1 Axes>"
      ]
     },
     "metadata": {
      "needs_background": "light"
     },
     "output_type": "display_data"
    },
    {
     "data": {
      "image/png": "[encoded data removed]",
      "text/plain": [
       "<Figure size 432x288 with 1 Axes>"
      ]
     },
     "metadata": {
      "needs_background": "light"
     },
     "output_type": "display_data"
    },
    {
     "data": {
      "image/png": "[encoded data removed]",
      "text/plain": [
       "<Figure size 432x288 with 1 Axes>"
      ]
     },
     "metadata": {
      "needs_background": "light"
     },
     "output_type": "display_data"
    },
    {
     "data": {
      "image/png": "[encoded data removed]",
      "text/plain": [
       "<Figure size 432x288 with 1 Axes>"
      ]
     },
     "metadata": {
      "needs_background": "light"
     },
     "output_type": "display_data"
    },
    {
     "data": {
      "image/png": "[encoded data removed]",
      "text/plain": [
       "<Figure size 432x288 with 1 Axes>"
      ]
     },
     "metadata": {
      "needs_background": "light"
     },
     "output_type": "display_data"
    }
   ],
   "source": [
    "plt.plot(history.history['accuracy'])\n",
    "plt.plot(history.history['val_accuracy'])\n",
    "plt.title('model accuracy')\n",
    "plt.ylabel('accuracy')\n",
    "plt.xlabel('epoch')\n",
    "plt.legend(['train', 'validation'], loc='lower right')\n",
    "plt.show()\n",
    "\n",
    "plt.plot(history.history['loss'])\n",
    "plt.plot(history.history['val_loss'])\n",
    "plt.title('train set loss')\n",
    "\n",
    "plt.ylabel('loss')\n",
    "plt.xlabel('epoch')\n",
    "plt.legend(['train', 'validation'], loc='upper right')\n",
    "plt.show()\n",
    "\n",
    "plt.plot(history.history['precision_4'])\n",
    "plt.plot(history.history['val_precision_4'])\n",
    "plt.title(' precision')\n",
    "plt.ylabel('precision')\n",
    "plt.xlabel('epoch')\n",
    "plt.legend(['train', 'validation'], loc='upper right')\n",
    "plt.show()\n",
    "\n",
    "\n",
    "plt.plot(history.history['recall_4'])\n",
    "plt.plot(history.history['val_recall_4'])\n",
    "plt.title(' recall')\n",
    "plt.ylabel('recall')\n",
    "plt.xlabel('epoch')\n",
    "plt.legend(['train', 'validation'], loc='upper right')\n",
    "plt.show()\n",
    "\n",
    "plt.plot(history.history['auc_4'])\n",
    "plt.plot(history.history['val_auc_4'])\n",
    "plt.title(' auc')\n",
    "plt.ylabel('auc')\n",
    "plt.xlabel('epoch')\n",
    "plt.legend(['train', 'validation'], loc='upper right')\n",
    "plt.show()"
   ]
  },
  {
   "cell_type": "code",
   "execution_count": 155,
   "id": "e0c0d4cb",
   "metadata": {},
   "outputs": [
    {
     "name": "stdout",
     "output_type": "stream",
     "text": [
      "29/29 [==============================] - 8s 269ms/step - loss: 0.0208 - accuracy: 0.9919 - precision_4: 0.9926 - recall_4: 0.9919 - auc_4: 1.0000\n",
      "Test Accuracy : 0.99185\n",
      "Test loss     : 0.02077\n",
      "Test Precision: 0.99259\n",
      "Test Recall   : 0.99185\n",
      "Test auc      : 0.99996\n"
     ]
    }
   ],
   "source": [
    "test_loss, test_accuracy, test_precision, test_recall, test_auc = model.evaluate(x_test)\n",
    "print('Test Accuracy : {:.5f}'.format(test_accuracy))\n",
    "print('Test loss     : {:.5f}'.format(test_loss))\n",
    "print('Test Precision: {:.5f}'.format(test_precision))\n",
    "print('Test Recall   : {:.5f}'.format(test_recall))\n",
    "print('Test auc      : {:.5f}'.format(test_auc))"
   ]
  },
  {
   "cell_type": "code",
   "execution_count": null,
   "id": "96e2efd0",
   "metadata": {},
   "outputs": [],
   "source": []
  }
 ],
 "metadata": {
  "kernelspec": {
   "display_name": "Python 3 (ipykernel)",
   "language": "python",
   "name": "python3"
  },
  "language_info": {
   "codemirror_mode": {
    "name": "ipython",
    "version": 3
   },
   "file_extension": ".py",
   "mimetype": "text/x-python",
   "name": "python",
   "nbconvert_exporter": "python",
   "pygments_lexer": "ipython3",
   "version": "3.9.7"
  }
 },
 "nbformat": 4,
 "nbformat_minor": 5
}
